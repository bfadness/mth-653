{
 "cells": [
  {
   "cell_type": "markdown",
   "metadata": {},
   "source": [
    "# MTH 653: Advanced Numerical Analysis"
   ]
  },
  {
   "cell_type": "markdown",
   "metadata": {},
   "source": [
    "## Homework Assignment 2"
   ]
  },
  {
   "cell_type": "markdown",
   "metadata": {},
   "source": [
    "### <span style=\"color:red;\">Write your name here</span>"
   ]
  },
  {
   "cell_type": "markdown",
   "metadata": {
    "id": "d5sMJY4v8Tol"
   },
   "source": [
    "### Guidelines\n",
    "\n",
    "* Each student must complete their own assignment individually.\n",
    "  * Discussing with other students is allowed (encouraged!), but you must write your own answers and code.\n",
    "  * The use of ChatGTP, Copilot, or other AI assistants is **not allowed**\n",
    "* The code must run in Colab or JupyterHub without errors.\n",
    "  * Code that does not run will not receive any credit.\n",
    "  * I suggest double-checking that your code runs properly in a new session. Sometimes code can be broken but appear to work because of old state in the notebook."
   ]
  },
  {
   "cell_type": "markdown",
   "metadata": {},
   "source": [
    "### Google Colab Instructions\n",
    "\n",
    "* After opening this assignment in Google Colab, click on **\"Copy to Drive\"**\n",
    "* Rename the notebook to `student_name_mth_653_assignment_2.ipynb`\n",
    "    * ⚠️ In the above, replace `student_name` with your name!\n",
    "* Enter your name above (in the cell below \"Homework Assignment\")!\n",
    "* When you are ready to submit your assignment, select \"File -> Download -> Download .ipynb\" from the Colab menu\n",
    "* Upload the downloaded `.ipynb` file to Canvas"
   ]
  },
  {
   "cell_type": "markdown",
   "metadata": {},
   "source": [
    "### Assignment Goals\n",
    "\n",
    "* The purpose of this assignment is to:\n",
    "    1. Use the method of characteristics to find solutions to Burgers' equation\n",
    "    2. Use the concept of weak solutions to find the Rankine-Hugoniot jump conditions and find the shock speed\n",
    "    3. Use the entropy condition to identify physically relevant weak solutions\n",
    "    4. Implement finite volume methods for Burgers' equation and interpret the results"
   ]
  },
  {
   "cell_type": "markdown",
   "metadata": {},
   "source": [
    "### Burgers' Equation and Weak Solutions"
   ]
  },
  {
   "cell_type": "markdown",
   "metadata": {},
   "source": [
    "##### 1. (2 points)\n",
    "\n",
    "Let $\\Omega = \\mathbb{R}$ and define the initial condition\n",
    "$$\n",
    "   u_0(x) = \\begin{cases}\n",
    "      0 & \\text{if $x \\leq 0$} \\\\\n",
    "      x & \\text{if $0 \\leq x \\leq 1$} \\\\\n",
    "      1 & \\text{if $x \\geq 1$}.\n",
    "   \\end{cases}\n",
    "$$\n",
    "\n",
    "Use the method of characteristics to write down the solution to Burgers' equation for $t \\in [0, T]$, where $T$ is some maximal time.\n",
    "What is the largest $T$ that you can choose for the method of characteristics to give a unique well-defined solution?"
   ]
  },
  {
   "cell_type": "markdown",
   "metadata": {},
   "source": [
    "#### 2. (2 points)\n",
    "\n",
    "Let $\\Omega = \\mathbb{R}$ and define the initial condition\n",
    "$$\n",
    "   u_0(x) = \\begin{cases}\n",
    "      1 & \\text{if $x \\leq 0$} \\\\\n",
    "      1-x & \\text{if $0 \\leq x \\leq 1$} \\\\\n",
    "      0 & \\text{if $x \\geq 1$}.\n",
    "   \\end{cases}\n",
    "$$\n",
    "\n",
    "Use the method of characteristics to write down the solution to Burgers' equation for $t \\in [0, T]$, where $T$ is some maximal time.\n",
    "What is the largest $T$ that you can choose for the method of characteristics to give a unique well-defined solution?"
   ]
  },
  {
   "cell_type": "markdown",
   "metadata": {},
   "source": [
    "#### 3. (2 points)\n",
    "\n",
    "A **weak solution** $u$ to a hyperbolic conservation law with flux function $F(u)$ is defined to satisfy\n",
    "$$\n",
    "   \\int_0^{\\infty} \\int_{-\\infty}^{\\infty} u(t,x) \\frac{\\partial v(t,x)}{\\partial t} + F(u(t,x)) \\frac{\\partial v(t,x)}{\\partial x} \\, dx \\, dt + \\int_{-\\infty}^{\\infty} u_0(x) v(0,x) \\, dx = 0,\n",
    "$$\n",
    "for all smooth test functions $v(t, x)$ with compact support.\n",
    "\n",
    "Show that if $u$ is a smooth weak solution, then $u$ satisfies the differential equation\n",
    "$$\n",
    "   \\frac{\\partial u}{\\partial t} + \\frac{\\partial F(u)}{\\partial x} = 0\n",
    "$$\n",
    "with initial conditions $u(0,x) = u_0(x)$."
   ]
  },
  {
   "cell_type": "markdown",
   "metadata": {},
   "source": [
    "### Shocks and the Rankine-Hugoniot jump condition"
   ]
  },
  {
   "cell_type": "markdown",
   "metadata": {},
   "source": [
    "\n",
    "\n",
    "#### 4. (2 points)\n",
    "\n",
    "Let $u : (0,\\infty) \\times \\mathbb{R}$ be a weak solution to the conservation law.\n",
    "\n",
    "Suppose there is a smooth curve $C$ that partitions $(0,\\infty) \\times \\mathbb{R}$ into $V_L$ and $V_R$ (the regions to the left and the right of the curve, respectively).\n",
    "Assume the weak solution $u$ satisfies the differential equation strongly in each of $V_L$ and $V_R$.\n",
    "\n",
    "Integrate (by parts) over the regions $V_L$ and $V_R$ to obtain the condition\n",
    "$$\n",
    "   \\int_C (u_L n_t + F_L n_x) v \\, ds = \\int_C (u_R n_t + F_R n_x) v \\, ds,\n",
    "$$\n",
    "where $(n_t, n_x)$ is the vector normal to the curve $C$ (pointing outward from $V_L$), $v$ is a smooth test function, and $u_L$ is the trace of $u$ on $C$ from within $V_L$. The traces $F_L, u_R, F_R$ are defined analogously."
   ]
  },
  {
   "cell_type": "markdown",
   "metadata": {},
   "source": [
    "##### 5. (2 points)\n",
    "\n",
    "Let the curve $C$ be parameterized as $\\{ (t, x(t)) \\}$, where $x'(t) = \\sigma$.\n",
    "When $u$ is discontinuous across $C$, it is called a **shock**. The quantity $\\sigma$ is called the **shock speed** of the shock curve $C$.\n",
    "\n",
    "Use question 4 to show the **Rankine-Hugoniot jump conditions**\n",
    "$$\n",
    "   F_L - F_R = \\sigma (u_L - u_R).\n",
    "$$"
   ]
  },
  {
   "cell_type": "markdown",
   "metadata": {},
   "source": [
    "### Entropy condition\n",
    "\n",
    "Based on the criterion that moving *backwards* along a characteristic curve, one should never encounter a discontinuity, it is possible to derive the *entropy condition*\n",
    "$$\n",
    "   F'_L > \\sigma > F'_R,\n",
    "$$\n",
    "where $\\sigma$ is the shock speed of the curve $C$ (see question 5) and $F_L'$ and $F_R'$ are the traces of $F'$ (the derivative of $F$ with respect to $u$) from within $V_L$ and $V_R$, respectively.\n",
    "Specifically, in the case of Burgers' equation, this condition gives\n",
    "$$\n",
    "   u_L > \\sigma > u_R.\n",
    "$$\n",
    "\n",
    "Although there may be infinitely many weak solutions to the conservation law with given initial conditions, there is only one **physically relevant** weak solution that satisfies the entropy conditions.\n"
   ]
  },
  {
   "cell_type": "markdown",
   "metadata": {},
   "source": [
    "##### 6. (2 points)\n",
    "\n",
    "Consider the initial condition\n",
    "$$\n",
    "   u_0(x) = \\begin{cases}\n",
    "      0 & \\text{if $x < 0$} \\\\\n",
    "      1 & \\text{if $x > 0$}.\n",
    "   \\end{cases}\n",
    "$$\n",
    "\n",
    "Show that both\n",
    "$$\n",
    "   u(t,x) = \\begin{cases}\n",
    "      0 & \\text{if $x < t/2$} \\\\\n",
    "      1 & \\text{if $x > t/2$}.\n",
    "   \\end{cases}\n",
    "$$\n",
    "and\n",
    "$$\n",
    "   u(t,x) = \\begin{cases}\n",
    "      0 & \\text{if $x < 0$} \\\\\n",
    "      x/t & \\text{if $0 < x < t$} \\\\\n",
    "      1 & \\text{if $x > t$}.\n",
    "   \\end{cases}\n",
    "$$\n",
    "are weak solutions satisfying the Rankine-Hugoniot conditions.\n",
    "\n",
    "Which (if any) satisfy the entropy condition?"
   ]
  },
  {
   "cell_type": "markdown",
   "metadata": {
    "vscode": {
     "languageId": "plaintext"
    }
   },
   "source": [
    "### Coding"
   ]
  },
  {
   "cell_type": "markdown",
   "metadata": {},
   "source": [
    "#### 7.\n",
    "\n",
    "Implement Godunov's method for Burgers' equation.\n",
    "\n",
    "Set the domain $\\Omega = [-1, 1]$ and initial condition $u_0 = \\exp(-10(x-1/8)^2) - \\exp(-10(x+1/8)^2)$.\n",
    "\n",
    "Integrate until $T = 1$ using 200 cells and $\\Delta t = h$ and plot the solution.\n",
    "\n",
    "Describe qualitatively how the behavior of the solution changes over time."
   ]
  },
  {
   "cell_type": "markdown",
   "metadata": {},
   "source": [
    "#### 8.\n",
    "\n",
    "Now solve the problem on the same domain with piecewise constant initial conditions\n",
    "$$\n",
    "   u_0(x) = \\begin{cases}\n",
    "      -1/2 & \\text{if $-1/2 < x < 0$}\\\\\n",
    "      1/2 & \\text{if $0 < x < 1/2$}\\\\\n",
    "      0 & \\text{otherwise}\n",
    "   \\end{cases}\n",
    "$$\n",
    "\n",
    "Explain the structure of the solution in relation to the concepts developed in this problem set. What are the relevant shock speeds?"
   ]
  },
  {
   "cell_type": "markdown",
   "metadata": {},
   "source": [
    "#### 9.\n",
    "\n",
    "Implement the local Lax-Friedrichs method and re-run question 7. How do the results compare? What is the main advantage of this method relative to Godunov's method?"
   ]
  }
 ],
 "metadata": {
  "colab": {
   "provenance": []
  },
  "kernelspec": {
   "display_name": ".venv",
   "language": "python",
   "name": "python3"
  },
  "language_info": {
   "codemirror_mode": {
    "name": "ipython",
    "version": 3
   },
   "file_extension": ".py",
   "mimetype": "text/x-python",
   "name": "python",
   "nbconvert_exporter": "python",
   "pygments_lexer": "ipython3",
   "version": "3.12.8"
  }
 },
 "nbformat": 4,
 "nbformat_minor": 0
}
