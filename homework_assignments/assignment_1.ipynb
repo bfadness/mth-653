{
 "cells": [
  {
   "cell_type": "markdown",
   "metadata": {},
   "source": [
    "# MTH 653: Advanced Numerical Analysis"
   ]
  },
  {
   "cell_type": "markdown",
   "metadata": {},
   "source": [
    "## Homework Assignment 1"
   ]
  },
  {
   "cell_type": "markdown",
   "metadata": {},
   "source": [
    "### <span style=\"color:red;\">Write your name here</span>"
   ]
  },
  {
   "cell_type": "markdown",
   "metadata": {
    "id": "d5sMJY4v8Tol"
   },
   "source": [
    "### Guidelines\n",
    "\n",
    "* Each student must complete their own assignment individually.\n",
    "  * Discussing with other students is allowed (encouraged!), but you must write your own answers and code.\n",
    "  * The use of ChatGTP, Copilot, or other AI assistants is **not allowed**\n",
    "* The code must run in Colab or JupyterHub without errors.\n",
    "  * Code that does not run will not receive any credit.\n",
    "  * I suggest double-checking that your code runs properly in a new session. Sometimes code can be broken but appear to work because of old state in the notebook."
   ]
  },
  {
   "cell_type": "markdown",
   "metadata": {},
   "source": [
    "### Google Colab Instructions\n",
    "\n",
    "* After opening this assignment in Google Colab, click on **\"Copy to Drive\"**\n",
    "* Rename the notebook to `student_name_mth_653_assignment_1.ipynb`\n",
    "    * ⚠️ In the above, replace `student_name` with your name!\n",
    "* Enter your name above (in the cell below \"Homework Assignment\")!\n",
    "* When you are ready to submit your assignment, select \"File -> Download -> Download .ipynb\" from the Colab menu\n",
    "* Upload the downloaded `.ipynb` file to Canvas"
   ]
  },
  {
   "cell_type": "markdown",
   "metadata": {},
   "source": [
    "### Assignment Goals\n",
    "\n",
    "* The purpose of this assignment is to:\n",
    "    1. Implement the first-order finite volume method\n",
    "    2. Test and understand the stability properties of different finite difference methods for advection."
   ]
  },
  {
   "cell_type": "markdown",
   "metadata": {},
   "source": [
    "#### 1.\n",
    "\n",
    "Consider the steady advection equation\n",
    "$$\n",
    "(*)~\\left\\{\n",
    "\\begin{aligned}\n",
    "   \\nabla \\cdot (\\boldsymbol\\beta u) + cu &= f \\qquad\\text{in $\\Omega$} \\\\\n",
    "   u &= g \\qquad\\text{on $\\Gamma_{\\mathrm{in}}$}\n",
    "\\end{aligned}\\right.\n",
    "$$\n",
    "and the DG variational formulation\n",
    "$$\n",
    "   (**)~\\Big\\{\\quad\n",
    "   a(u,v) = F(v),\n",
    "$$\n",
    "for all $v \\in H^1(\\mathcal{T})$, where\n",
    "$$\n",
    "\\begin{aligned}\n",
    "   a(u,v) &= -\\int_\\Omega u \\boldsymbol\\beta \\cdot \\nabla_h v \\, dx\n",
    "      + \\int_{\\Gamma} \\widehat{\\boldsymbol F} \\cdot \\boldsymbol n v \\, ds + \\int_\\Omega cuv \\, dx \\\\\n",
    "   F(v) &= \\int_\\Omega f v \\, dx\n",
    "\\end{aligned}\n",
    "$$\n",
    "We say the discretization is **consistent** if the solution $u$ to $(*)$ also solves $(**)$.\n",
    "Prove that the DG variational formulation for the advection equation is **consistent** if and only if the numerical flux function $\\widehat{\\boldsymbol{F}}$ is consistent.\n",
    "\n",
    "(For simplicity, assume periodic boundary conditions, i.e. $\\Gamma_\\partial = \\varnothing$)."
   ]
  },
  {
   "cell_type": "markdown",
   "metadata": {},
   "source": [
    "#### 1D Finite Volume Method\n",
    "\n",
    "The following questions will be concerned with the implementation of the simple 1D finite volume method for linear advection.\n",
    "The governing equations are\n",
    "$$\n",
    "\\begin{aligned}\n",
    "   \\frac{\\partial u}{\\partial t} + \\beta \\frac{\\partial u}{\\partial x} &= 0, \\\\\n",
    "   u(x,0) &= u_0(x)\n",
    "\\end{aligned}\n",
    "$$\n",
    "on the 1D domain $\\Omega = [a,b]$.\n",
    "In the above, $\\beta$ is a constant, and $u_0$ are the initial conditions.\n",
    "\n",
    "We consider periodic boundary conditions.\n",
    "We will take $\\Omega = [-1, 1]$ and $\\beta = 1$.\n",
    "The initial conditions are given by\n",
    "$$\n",
    "   u_0(x) = \\exp(-150 x^2).\n",
    "$$\n",
    "\n",
    "The finite volume method gives the following system of ODEs for the cell averages:\n",
    "$$\n",
    "   h_i \\frac{d u_i}{dt} + \\beta (u_i - u_{i-1}) = 0.\n",
    "$$\n",
    "\n",
    "We will use the **forward Euler** method for time integration, giving the fully discrete method\n",
    "$$\n",
    "   u_i^{n+1} = u_i^n - \\Delta t \\frac{u_i^n - u_{i-1}^n}{h_i}.\n",
    "$$\n",
    "\n",
    "Note that this can be written in the form\n",
    "$$\n",
    "   \\boldsymbol{u}^{n+1} = (I - \\Delta t A)\\boldsymbol{u}^n,\n",
    "$$\n",
    "where $A$ is a matrix representing the finite volume difference operator.\n",
    "Note that this coincides with the standard backwards difference quotient."
   ]
  },
  {
   "cell_type": "code",
   "execution_count": 1,
   "metadata": {},
   "outputs": [],
   "source": [
    "import numpy as np\n",
    "import matplotlib.pyplot as plt"
   ]
  },
  {
   "cell_type": "markdown",
   "metadata": {},
   "source": [
    "#### 2.\n",
    "\n",
    "Write a function `backward_difference(n)` that returns the matrix $A$ representing the finite volume difference operator described above, where the interval $[-1,1]$ has been split into $n$ cells of equal size.\n",
    "\n",
    "Periodic boundary conditions are incorporated into the matrix $A$ by \"wrapping around\" the spatial indices."
   ]
  },
  {
   "cell_type": "code",
   "execution_count": 2,
   "metadata": {},
   "outputs": [],
   "source": [
    "def backward_difference(n):\n",
    "   A = np.zeros((n, n))\n",
    "   return A"
   ]
  },
  {
   "cell_type": "markdown",
   "metadata": {},
   "source": [
    "#### 3.\n",
    "\n",
    "Write functions `uex(x, t)` and `u0(x)` that return the exact solution and initial condition at point $x$ (and time $t$).\n",
    "\n",
    "Write a function `run(n, A, ft)` that runs the finite volume method with forward Euler as follows using the difference matrix $A$ until a final time `ft`.\n",
    "\n",
    "Set $\\Delta t = h / 2$, where $h = 2 / n$, and $n$ is the number of cells.\n",
    "\n",
    "Set the initial condition by evaluating $u0$ at cell centers (approximate the cell average with cell-centered point evaluation).\n",
    "\n",
    "\n",
    "Plot the approximate and exact solution and return an approximation of the $L^2$ error computed with\n",
    "$$\n",
    "   \\| u - u_h \\|_{L^2}^2 \\approx \\sum_i h (u(x_i - u_i))^2,\n",
    "$$\n",
    "where $x_i$ is the center of the $i$-th cell.\n",
    "\n",
    "Run your function with $A$ from the `backward_difference` function with $n = 500$ and $n = 1000$ and final time $T = 0.6$.\n",
    "Estimate the order of accuracy of the method."
   ]
  },
  {
   "cell_type": "code",
   "execution_count": 3,
   "metadata": {},
   "outputs": [],
   "source": [
    "def uex(x, t):\n",
    "   pass\n",
    "\n",
    "def u0(x):\n",
    "   return uex(x, 0)\n",
    "\n",
    "def run(n, A, ft):\n",
    "   pass"
   ]
  },
  {
   "cell_type": "markdown",
   "metadata": {},
   "source": [
    "#### 4.\n",
    "\n",
    "Write functions `forward_difference(n)` and `centered_difference(n)` that return the downwind and second-order centered difference operators (analogous to `backward_difference` from question 2).\n",
    "Repeat the test in question 3 and describe the results."
   ]
  },
  {
   "cell_type": "code",
   "execution_count": 4,
   "metadata": {},
   "outputs": [],
   "source": [
    "def forward_difference(n):\n",
    "   A = np.zeros((n, n))\n",
    "   return A"
   ]
  },
  {
   "cell_type": "code",
   "execution_count": 5,
   "metadata": {},
   "outputs": [],
   "source": [
    "def centered_difference(n):\n",
    "   A = np.zeros((n, n))\n",
    "   return A"
   ]
  },
  {
   "cell_type": "markdown",
   "metadata": {},
   "source": [
    "#### 5.\n",
    "\n",
    "Consider the forward Euler discretization of the simple ODE\n",
    "$$\n",
    "   u' = \\lambda u\n",
    "$$\n",
    "where $\\lambda \\in \\mathbb{C}$ with $\\mathrm{Re}(\\lambda) < 0$.\n",
    "The solution to this ODE exhibits exponential decay.\n",
    "\n",
    "Find conditions on $\\lambda \\Delta t \\in \\mathbb{C}$ such that the forward Euler method is stable (the discrete solution also decays)."
   ]
  },
  {
   "cell_type": "markdown",
   "metadata": {},
   "source": [
    "#### 6.\n",
    "\n",
    "Numerically compute the eigenvalues of $- \\Delta t A$ where $A$ is the backward, forward, and centered difference operators (with, for example, $n=64$, $\\Delta t = 2 / 64$).\n",
    "Plot the eigenvalues of all three operators on the complex plain.\n",
    "\n",
    "Explain the results of questions 3 and 4 in terms of the spectra, in light of question 5."
   ]
  }
 ],
 "metadata": {
  "colab": {
   "provenance": []
  },
  "kernelspec": {
   "display_name": ".venv",
   "language": "python",
   "name": "python3"
  },
  "language_info": {
   "codemirror_mode": {
    "name": "ipython",
    "version": 3
   },
   "file_extension": ".py",
   "mimetype": "text/x-python",
   "name": "python",
   "nbconvert_exporter": "python",
   "pygments_lexer": "ipython3",
   "version": "3.12.8"
  }
 },
 "nbformat": 4,
 "nbformat_minor": 0
}
