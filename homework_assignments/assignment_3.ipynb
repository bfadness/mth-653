{
 "cells": [
  {
   "cell_type": "markdown",
   "metadata": {},
   "source": [
    "# MTH 653: Advanced Numerical Analysis"
   ]
  },
  {
   "cell_type": "markdown",
   "metadata": {},
   "source": [
    "## Homework Assignment 3"
   ]
  },
  {
   "cell_type": "markdown",
   "metadata": {},
   "source": [
    "### <span style=\"color:red;\">Write your name here</span>"
   ]
  },
  {
   "cell_type": "markdown",
   "metadata": {
    "id": "d5sMJY4v8Tol"
   },
   "source": [
    "### Guidelines\n",
    "\n",
    "* Each student must complete their own assignment individually.\n",
    "  * Discussing with other students is allowed (encouraged!), but you must write your own answers and code.\n",
    "  * The use of ChatGTP, Copilot, or other AI assistants is **not allowed**\n",
    "* The code must run in Colab or JupyterHub without errors.\n",
    "  * Code that does not run will not receive any credit.\n",
    "  * I suggest double-checking that your code runs properly in a new session. Sometimes code can be broken but appear to work because of old state in the notebook."
   ]
  },
  {
   "cell_type": "markdown",
   "metadata": {},
   "source": [
    "### Google Colab Instructions\n",
    "\n",
    "* After opening this assignment in Google Colab, click on **\"Copy to Drive\"**\n",
    "* Rename the notebook to `student_name_mth_653_assignment_3.ipynb`\n",
    "    * ⚠️ In the above, replace `student_name` with your name!\n",
    "* Enter your name above (in the cell below \"Homework Assignment\")!\n",
    "* When you are ready to submit your assignment, select \"File -> Download -> Download .ipynb\" from the Colab menu\n",
    "* Upload the downloaded `.ipynb` file to Canvas"
   ]
  },
  {
   "cell_type": "markdown",
   "metadata": {},
   "source": [
    "A numerical flux function $\\widehat{F}(u_L, u_R)$ is called **monotone** if it is non-decreasing in the first argument, and non-increasing in the second argument, denoted $\\widehat{F}(\\uparrow, \\downarrow)$.\n",
    "\n",
    "#### 1. (2 points)\n",
    "\n",
    "Show that the Godunov numerical flux is monotone for any scalar hyperbolic conservation law (with convex flux function).\n",
    "\n",
    "#### 2. (2 points)\n",
    "\n",
    "Show that the local Lax-Friedrichs flux is monotone for any scalar hyperbolic conservation law (with convex flux function)."
   ]
  },
  {
   "cell_type": "markdown",
   "metadata": {},
   "source": [
    "#### 3. (3 points)\n",
    "\n",
    "Consider the equations of linear acoustics,\n",
    "$$\n",
    "   \\frac{\\partial \\boldsymbol{u}}{\\partial t} + A \\frac{\\partial\\boldsymbol{u}}{\\partial x} = 0,\n",
    "$$\n",
    "where the matrix $A$ is defined by\n",
    "$$\n",
    "   A = \\begin{pmatrix}\n",
    "      u_0 & K_0 \\\\\n",
    "      1/\\rho_0 & u_0\n",
    "   \\end{pmatrix}.\n",
    "$$\n",
    "The unknowns are $\\boldsymbol{u} = (v, p)$, representing velocity and pressure.\n",
    "\n",
    "Implement the local Lax-Friedrichs method for this system of equations.\n",
    "\n",
    "Choose $u_0 = 0, \\rho_0 = 1/4, K = 2$ and initial condition\n",
    "$$\n",
    "   \\begin{aligned}\n",
    "      v_0(x) &\\equiv 0, \\\\\n",
    "      p_0(x) &= \\exp(-100(x - 0.35)^2)\n",
    "   \\end{aligned}\n",
    "$$\n",
    "\n",
    "Solve the problem on $\\Omega = [0,1]$ with 100 cells.\n",
    "Use forward Euler time integration with $\\Delta t = h / c$ and final time $T=0.125$, where $c$ is the maximum wavespeed.\n",
    "\n",
    "For boundary conditions, implement \"outflow\" boundary conditions, by choosing $\\boldsymbol{u}_L = 0$ at the left endpoint, and $\\boldsymbol{u}_R = 0$ at the right endpoint in the evaluation of the numerical flux.\n",
    "\n",
    "**Note:** you may want to look at the notebook `godunov.ipynb` in the class repo to see how this problem (with slightly different boundary conditions) is solved with Godunov's method."
   ]
  },
  {
   "cell_type": "markdown",
   "metadata": {},
   "source": [
    "#### 4. (2 points)\n",
    "\n",
    "Let $u_h$ be the interior penalty DG solution to $-\\Delta u = f$.\n",
    "Let $u$ be the exact solution.\n",
    "Prove that\n",
    "$$\n",
    "   \\| [\\![ u_h ]\\!] \\|_{L^2(\\Gamma)} \\lesssim h^{p+1} | u |_{H^{p+1}(\\Omega)}\n",
    "$$"
   ]
  },
  {
   "cell_type": "markdown",
   "metadata": {},
   "source": [
    "#### 5. (3 points)\n",
    "\n",
    "Let $(u_h, \\boldsymbol{\\sigma}_h)$ be the (potential and flux) interior penalty DG solution to $-\\Delta u = f$.\n",
    "Let $u$ be the exact solution, and let $\\boldsymbol{\\sigma} = \\nabla u$ be the exact flux.\n",
    "Prove that\n",
    "$$\n",
    "   \\| \\boldsymbol{\\sigma} - \\boldsymbol{\\sigma}_h \\|_{L^2(\\Omega)} \\lesssim h^p | u |_{H^{p+1}(\\Omega)}\n",
    "$$"
   ]
  },
  {
   "cell_type": "markdown",
   "metadata": {},
   "source": [
    "#### 6. (3 points)\n",
    "\n",
    "Prove the **trace inequality** (proposition 1 from lecture 7): for any $u_h$ in the DG finite element space $V_h$,\n",
    "$$\n",
    "   \\| u_h \\|_{L^2(\\partial\\kappa)} \\lesssim h^{-1/2} \\| u_h \\|_{L^2(\\kappa)}.\n",
    "$$\n",
    "You may assume that $\\kappa = h \\hat{\\kappa}$, where $\\hat{\\kappa}$ is the fixed reference triangle."
   ]
  }
 ],
 "metadata": {
  "colab": {
   "provenance": []
  },
  "kernelspec": {
   "display_name": ".venv",
   "language": "python",
   "name": "python3"
  },
  "language_info": {
   "codemirror_mode": {
    "name": "ipython",
    "version": 3
   },
   "file_extension": ".py",
   "mimetype": "text/x-python",
   "name": "python",
   "nbconvert_exporter": "python",
   "pygments_lexer": "ipython3",
   "version": "3.12.8"
  }
 },
 "nbformat": 4,
 "nbformat_minor": 0
}
