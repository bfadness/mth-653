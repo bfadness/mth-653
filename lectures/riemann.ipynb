{
 "cells": [
  {
   "cell_type": "code",
   "execution_count": null,
   "metadata": {},
   "outputs": [],
   "source": [
    "import numpy as np\n",
    "import matplotlib.pyplot as plt"
   ]
  },
  {
   "cell_type": "code",
   "execution_count": null,
   "metadata": {},
   "outputs": [],
   "source": [
    "a = 1\n",
    "nx = 1000\n",
    "\n",
    "T = 1\n",
    "nt = 1000"
   ]
  },
  {
   "cell_type": "code",
   "execution_count": null,
   "metadata": {},
   "outputs": [],
   "source": [
    "def F(u):\n",
    "   return 0.5*u**2\n",
    "\n",
    "def Fp(u):\n",
    "   return u\n",
    "\n",
    "def Fp_inv(u):\n",
    "   return u"
   ]
  },
  {
   "cell_type": "code",
   "execution_count": null,
   "metadata": {},
   "outputs": [],
   "source": [
    "uL = -0.5\n",
    "uR = 1"
   ]
  },
  {
   "cell_type": "code",
   "execution_count": null,
   "metadata": {},
   "outputs": [],
   "source": [
    "def riemann(x_t):\n",
    "   if uL >= uR:\n",
    "      sigma = (F(uL) - F(uR)) / (uL - uR)\n",
    "      if x_t <= sigma:\n",
    "         return uL\n",
    "      else:\n",
    "         return uR\n",
    "   else:\n",
    "      if x_t <= Fp(uL):\n",
    "         return uL\n",
    "      elif x_t <= Fp(uR):\n",
    "         return Fp_inv(x_t)\n",
    "      else:\n",
    "         return uR"
   ]
  },
  {
   "cell_type": "code",
   "execution_count": null,
   "metadata": {},
   "outputs": [],
   "source": [
    "x = np.linspace(-a, a, nx)\n",
    "t = np.linspace(0, T, nt)\n",
    "\n",
    "u = np.zeros((nx, nt))\n",
    "\n",
    "for ix in range(nx):\n",
    "   if x[ix] <= 0:\n",
    "      u[ix, 0] = uL\n",
    "   else:\n",
    "      u[ix, 0] = uR\n",
    "   for it in range(1, nt):\n",
    "      u[ix, it] = riemann(x[ix] / t[it])"
   ]
  },
  {
   "cell_type": "code",
   "execution_count": null,
   "metadata": {},
   "outputs": [],
   "source": [
    "def plot_waves(style):\n",
    "   if uL >= uR:\n",
    "      plt.plot(((F(uL) - F(uR)) / (uL - uR))*t, t, style)\n",
    "   else:\n",
    "      plt.plot(Fp(uL)*t, t, style)\n",
    "      plt.plot(Fp(uR)*t, t, style)"
   ]
  },
  {
   "cell_type": "code",
   "execution_count": null,
   "metadata": {},
   "outputs": [],
   "source": [
    "Xs,Ts = np.meshgrid(x,t)\n",
    "plt.pcolormesh(Xs, Ts, u.T)\n",
    "\n",
    "plot_waves(\"red\")\n",
    "\n",
    "plt.xlim((-a,a))\n",
    "plt.ylim((0,1))\n",
    "plt.xlabel(\"x\")\n",
    "plt.ylabel(\"t\")"
   ]
  },
  {
   "cell_type": "code",
   "execution_count": null,
   "metadata": {},
   "outputs": [],
   "source": [
    "plot_waves(\"k\")\n",
    "plt.plot(x, 0*x, \"k\")\n",
    "plt.xlabel(\"x\")\n",
    "plt.ylabel(\"t\")"
   ]
  },
  {
   "cell_type": "code",
   "execution_count": null,
   "metadata": {},
   "outputs": [],
   "source": [
    "from matplotlib.animation import FuncAnimation\n",
    "from IPython.display import HTML"
   ]
  },
  {
   "cell_type": "code",
   "execution_count": null,
   "metadata": {},
   "outputs": [],
   "source": [
    "%%capture\n",
    "fig, axis = plt.subplots(1, 2)\n",
    "fig.set_figwidth(12.0)\n",
    "\n",
    "axis[0].pcolormesh(Xs, Ts, u.T)\n",
    "if uL >= uR:\n",
    "   axis[0].plot(((F(uL) - F(uR)) / (uL - uR))*t, t, 'red')\n",
    "else:\n",
    "   axis[0].plot(Fp(uL)*t, t, 'red')\n",
    "   axis[0].plot(Fp(uR)*t, t, 'red')\n",
    "\n",
    "line_0, = axis[0].plot([])\n",
    "line_1, = axis[1].plot([])\n",
    "axis[0].set_xlim(-a, a)\n",
    "axis[1].set_xlim(-a, a)\n",
    "axis[0].set_ylim(0, 1)\n",
    "\n",
    "minv = min(uL,uR)\n",
    "maxv = max(uL,uR)\n",
    "\n",
    "axis[1].set_ylim(minv - 0.1*(maxv-minv), max(uL,uR) + 0.1*(maxv-minv))\n",
    "\n",
    "def set_data(frame):\n",
    "   it = int(np.round(nt / nframes * frame))\n",
    "   line_0.set_data((x, 0*x + t[it]))\n",
    "   line_1.set_data((x, u[:,it]))"
   ]
  },
  {
   "cell_type": "code",
   "execution_count": null,
   "metadata": {},
   "outputs": [],
   "source": [
    "nframes = 50\n",
    "anim = FuncAnimation(fig, set_data, frames=nframes)\n",
    "HTML(anim.to_jshtml())"
   ]
  },
  {
   "cell_type": "code",
   "execution_count": null,
   "metadata": {},
   "outputs": [],
   "source": []
  }
 ],
 "metadata": {
  "kernelspec": {
   "display_name": ".venv",
   "language": "python",
   "name": "python3"
  },
  "language_info": {
   "codemirror_mode": {
    "name": "ipython",
    "version": 3
   },
   "file_extension": ".py",
   "mimetype": "text/x-python",
   "name": "python",
   "nbconvert_exporter": "python",
   "pygments_lexer": "ipython3",
   "version": "3.12.8"
  },
  "orig_nbformat": 4
 },
 "nbformat": 4,
 "nbformat_minor": 2
}
